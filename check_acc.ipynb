{
 "cells": [
  {
   "cell_type": "code",
   "execution_count": 26,
   "metadata": {},
   "outputs": [],
   "source": [
    "import numpy as np\n",
    "import h5py\n",
    "import os"
   ]
  },
  {
   "cell_type": "code",
   "execution_count": 27,
   "metadata": {},
   "outputs": [],
   "source": [
    "list_res = os.listdir('results/')\n",
    "clean_ds_path = 'data/clean_test_data.h5'"
   ]
  },
  {
   "cell_type": "code",
   "execution_count": 28,
   "metadata": {},
   "outputs": [],
   "source": [
    "clean_labels = np.array(h5py.File(clean_ds_path, 'r')['label'])"
   ]
  },
  {
   "cell_type": "code",
   "execution_count": 29,
   "metadata": {},
   "outputs": [
    {
     "name": "stdout",
     "output_type": "stream",
     "text": [
      "multi_lipstick.npy, 0.9359898674980515\n",
      "multi_clean.npy, 0.8091192517537023\n",
      "sunglasses_clean.npy, 0.798207326578332\n",
      "anon1_clean.npy, 0.7713172252533126\n",
      "multi_eyebrows.npy, 0.9260522213561965\n",
      "multi_sunglasses.npy, 0.9999220576773188\n",
      "anon1_poisoned.npy, 0.9368667186282151\n",
      "sunglasses_poison.npy, 0.9861262665627436\n"
     ]
    }
   ],
   "source": [
    "for res in list_res:\n",
    "    res_labels = np.load('results/'+res)\n",
    "    if 'clean' in res:\n",
    "        acc = (res_labels == clean_labels).sum()/len(clean_labels)\n",
    "    else:\n",
    "        acc = (res_labels == 1283).sum()/len(res_labels)\n",
    "    print(f'{res}, {acc}')"
   ]
  },
  {
   "cell_type": "code",
   "execution_count": 21,
   "metadata": {},
   "outputs": [
    {
     "data": {
      "text/plain": [
       "array([950, 992, 823, ..., 770, 304, 872], dtype=int32)"
      ]
     },
     "execution_count": 21,
     "metadata": {},
     "output_type": "execute_result"
    }
   ],
   "source": [
    "np.array(clean_labels)"
   ]
  },
  {
   "cell_type": "code",
   "execution_count": null,
   "metadata": {},
   "outputs": [],
   "source": []
  }
 ],
 "metadata": {
  "kernelspec": {
   "display_name": "Python 3",
   "language": "python",
   "name": "python3"
  },
  "language_info": {
   "codemirror_mode": {
    "name": "ipython",
    "version": 3
   },
   "file_extension": ".py",
   "mimetype": "text/x-python",
   "name": "python",
   "nbconvert_exporter": "python",
   "pygments_lexer": "ipython3",
   "version": "3.8.5"
  }
 },
 "nbformat": 4,
 "nbformat_minor": 4
}
