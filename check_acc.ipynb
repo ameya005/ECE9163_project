{
 "cells": [
  {
   "cell_type": "code",
   "execution_count": 2,
   "metadata": {},
   "outputs": [],
   "source": [
    "import numpy as np\n",
    "import h5py\n",
    "import os"
   ]
  },
  {
   "cell_type": "code",
   "execution_count": 27,
   "metadata": {},
   "outputs": [],
   "source": [
    "list_res = os.listdir('results/')\n",
    "clean_ds_path = 'data/clean_test_data.h5'"
   ]
  },
  {
   "cell_type": "code",
   "execution_count": 28,
   "metadata": {},
   "outputs": [],
   "source": [
    "clean_labels = np.array(h5py.File(clean_ds_path, 'r')['label'])"
   ]
  },
  {
   "cell_type": "code",
   "execution_count": 29,
   "metadata": {},
   "outputs": [
    {
     "name": "stdout",
     "output_type": "stream",
     "text": [
      "multi_lipstick.npy, 0.9359898674980515\n",
      "multi_clean.npy, 0.8091192517537023\n",
      "sunglasses_clean.npy, 0.798207326578332\n",
      "anon1_clean.npy, 0.7713172252533126\n",
      "multi_eyebrows.npy, 0.9260522213561965\n",
      "multi_sunglasses.npy, 0.9999220576773188\n",
      "anon1_poisoned.npy, 0.9368667186282151\n",
      "sunglasses_poison.npy, 0.9861262665627436\n"
     ]
    }
   ],
   "source": [
    "for res in list_res:\n",
    "    res_labels = np.load('results/'+res)\n",
    "    if 'clean' in res:\n",
    "        acc = (res_labels == clean_labels).sum()/len(clean_labels)\n",
    "    else:\n",
    "        acc = (res_labels == 1283).sum()/len(res_labels)\n",
    "    print(f'{res}, {acc}')"
   ]
  },
  {
   "cell_type": "code",
   "execution_count": 21,
   "metadata": {},
   "outputs": [
    {
     "data": {
      "text/plain": [
       "array([950, 992, 823, ..., 770, 304, 872], dtype=int32)"
      ]
     },
     "execution_count": 21,
     "metadata": {},
     "output_type": "execute_result"
    }
   ],
   "source": [
    "np.array(clean_labels)"
   ]
  },
  {
   "cell_type": "code",
   "execution_count": 3,
   "metadata": {},
   "outputs": [],
   "source": [
    "ds = h5py.File('./data/sunglasses_poisoned_data.h5', 'r')['data']"
   ]
  },
  {
   "cell_type": "code",
   "execution_count": 9,
   "metadata": {},
   "outputs": [],
   "source": [
    "from matplotlib import pyplot as plt"
   ]
  },
  {
   "cell_type": "code",
   "execution_count": 14,
   "metadata": {},
   "outputs": [],
   "source": [
    "img = np.uint8(ds[0].transpose(1,2,0))"
   ]
  },
  {
   "cell_type": "code",
   "execution_count": 13,
   "metadata": {},
   "outputs": [
    {
     "data": {
      "text/plain": [
       "array([[[255., 254., 242.],\n",
       "        [252., 250., 237.],\n",
       "        [238., 239., 225.],\n",
       "        ...,\n",
       "        [  1.,   0.,   0.],\n",
       "        [  3.,   1.,   4.],\n",
       "        [  2.,   0.,   6.]],\n",
       "\n",
       "       [[250., 247., 232.],\n",
       "        [255., 255., 241.],\n",
       "        [253., 252., 234.],\n",
       "        ...,\n",
       "        [  1.,   0.,   0.],\n",
       "        [  1.,   0.,   2.],\n",
       "        [  1.,   0.,   5.]],\n",
       "\n",
       "       [[255., 255., 236.],\n",
       "        [255., 255., 234.],\n",
       "        [230., 224., 200.],\n",
       "        ...,\n",
       "        [ 12.,  11.,   9.],\n",
       "        [  6.,   4.,   7.],\n",
       "        [  1.,   0.,   5.]],\n",
       "\n",
       "       ...,\n",
       "\n",
       "       [[109.,  60.,  30.],\n",
       "        [ 81.,  34.,   4.],\n",
       "        [ 82.,  37.,   8.],\n",
       "        ...,\n",
       "        [210., 208., 193.],\n",
       "        [174., 175., 161.],\n",
       "        [157., 159., 145.]],\n",
       "\n",
       "       [[122.,  75.,  47.],\n",
       "        [ 81.,  36.,   7.],\n",
       "        [ 80.,  36.,   7.],\n",
       "        ...,\n",
       "        [  3.,   1.,   0.],\n",
       "        [  1.,   1.,   0.],\n",
       "        [ 25.,  26.,  18.]],\n",
       "\n",
       "       [[148., 102.,  76.],\n",
       "        [ 83.,  39.,  12.],\n",
       "        [ 72.,  28.,   1.],\n",
       "        ...,\n",
       "        [  9.,   6.,   0.],\n",
       "        [  1.,   0.,   0.],\n",
       "        [  9.,  10.,   5.]]], dtype=float32)"
      ]
     },
     "execution_count": 13,
     "metadata": {},
     "output_type": "execute_result"
    }
   ],
   "source": []
  },
  {
   "cell_type": "code",
   "execution_count": null,
   "metadata": {},
   "outputs": [],
   "source": []
  }
 ],
 "metadata": {
  "kernelspec": {
   "display_name": "Python 3",
   "language": "python",
   "name": "python3"
  },
  "language_info": {
   "codemirror_mode": {
    "name": "ipython",
    "version": 3
   },
   "file_extension": ".py",
   "mimetype": "text/x-python",
   "name": "python",
   "nbconvert_exporter": "python",
   "pygments_lexer": "ipython3",
   "version": "3.8.5"
  }
 },
 "nbformat": 4,
 "nbformat_minor": 4
}
